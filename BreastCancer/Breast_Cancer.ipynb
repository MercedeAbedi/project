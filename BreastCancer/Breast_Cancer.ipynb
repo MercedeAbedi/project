{
 "cells": [
  {
   "cell_type": "code",
   "execution_count": 1,
   "id": "c1d5b7c2",
   "metadata": {},
   "outputs": [],
   "source": [
    "import numpy as np\n",
    "import pandas as pd\n",
    "import matplotlib.pyplot as plt\n",
    "%matplotlib inline\n",
    "import seaborn as sns\n",
    "from sklearn import metrics\n",
    "from sklearn.model_selection import train_test_split"
   ]
  },
  {
   "cell_type": "code",
   "execution_count": 2,
   "id": "5ae552c7",
   "metadata": {},
   "outputs": [
    {
     "data": {
      "text/html": [
       "<div>\n",
       "<style scoped>\n",
       "    .dataframe tbody tr th:only-of-type {\n",
       "        vertical-align: middle;\n",
       "    }\n",
       "\n",
       "    .dataframe tbody tr th {\n",
       "        vertical-align: top;\n",
       "    }\n",
       "\n",
       "    .dataframe thead th {\n",
       "        text-align: right;\n",
       "    }\n",
       "</style>\n",
       "<table border=\"1\" class=\"dataframe\">\n",
       "  <thead>\n",
       "    <tr style=\"text-align: right;\">\n",
       "      <th></th>\n",
       "      <th>age</th>\n",
       "      <th>menopause</th>\n",
       "      <th>tumor-size</th>\n",
       "      <th>inv-nodes</th>\n",
       "      <th>node-caps</th>\n",
       "      <th>deg-malig</th>\n",
       "      <th>breast</th>\n",
       "      <th>breast-quad</th>\n",
       "      <th>irradiat</th>\n",
       "      <th>Class</th>\n",
       "    </tr>\n",
       "  </thead>\n",
       "  <tbody>\n",
       "    <tr>\n",
       "      <th>0</th>\n",
       "      <td>30-39</td>\n",
       "      <td>premeno</td>\n",
       "      <td>30-34</td>\n",
       "      <td>0-2</td>\n",
       "      <td>no</td>\n",
       "      <td>3</td>\n",
       "      <td>left</td>\n",
       "      <td>left_low</td>\n",
       "      <td>no</td>\n",
       "      <td>no-recurrence-events</td>\n",
       "    </tr>\n",
       "    <tr>\n",
       "      <th>1</th>\n",
       "      <td>40-49</td>\n",
       "      <td>premeno</td>\n",
       "      <td>20-24</td>\n",
       "      <td>0-2</td>\n",
       "      <td>no</td>\n",
       "      <td>2</td>\n",
       "      <td>right</td>\n",
       "      <td>right_up</td>\n",
       "      <td>no</td>\n",
       "      <td>no-recurrence-events</td>\n",
       "    </tr>\n",
       "    <tr>\n",
       "      <th>2</th>\n",
       "      <td>40-49</td>\n",
       "      <td>premeno</td>\n",
       "      <td>20-24</td>\n",
       "      <td>0-2</td>\n",
       "      <td>no</td>\n",
       "      <td>2</td>\n",
       "      <td>left</td>\n",
       "      <td>left_low</td>\n",
       "      <td>no</td>\n",
       "      <td>no-recurrence-events</td>\n",
       "    </tr>\n",
       "    <tr>\n",
       "      <th>3</th>\n",
       "      <td>60-69</td>\n",
       "      <td>ge40</td>\n",
       "      <td>15-19</td>\n",
       "      <td>0-2</td>\n",
       "      <td>no</td>\n",
       "      <td>2</td>\n",
       "      <td>right</td>\n",
       "      <td>left_up</td>\n",
       "      <td>no</td>\n",
       "      <td>no-recurrence-events</td>\n",
       "    </tr>\n",
       "    <tr>\n",
       "      <th>4</th>\n",
       "      <td>40-49</td>\n",
       "      <td>premeno</td>\n",
       "      <td>0-4</td>\n",
       "      <td>0-2</td>\n",
       "      <td>no</td>\n",
       "      <td>2</td>\n",
       "      <td>right</td>\n",
       "      <td>right_low</td>\n",
       "      <td>no</td>\n",
       "      <td>no-recurrence-events</td>\n",
       "    </tr>\n",
       "  </tbody>\n",
       "</table>\n",
       "</div>"
      ],
      "text/plain": [
       "     age menopause tumor-size inv-nodes node-caps  deg-malig breast  \\\n",
       "0  30-39   premeno      30-34       0-2        no          3   left   \n",
       "1  40-49   premeno      20-24       0-2        no          2  right   \n",
       "2  40-49   premeno      20-24       0-2        no          2   left   \n",
       "3  60-69      ge40      15-19       0-2        no          2  right   \n",
       "4  40-49   premeno        0-4       0-2        no          2  right   \n",
       "\n",
       "  breast-quad irradiat                 Class  \n",
       "0    left_low       no  no-recurrence-events  \n",
       "1    right_up       no  no-recurrence-events  \n",
       "2    left_low       no  no-recurrence-events  \n",
       "3     left_up       no  no-recurrence-events  \n",
       "4   right_low       no  no-recurrence-events  "
      ]
     },
     "execution_count": 2,
     "metadata": {},
     "output_type": "execute_result"
    }
   ],
   "source": [
    "#Load the dataset\n",
    "data = pd.read_csv('E://Cancer.csv')\n",
    "data.head()"
   ]
  },
  {
   "cell_type": "code",
   "execution_count": 3,
   "id": "9f75164c",
   "metadata": {},
   "outputs": [
    {
     "name": "stdout",
     "output_type": "stream",
     "text": [
      "<class 'pandas.core.frame.DataFrame'>\n",
      "RangeIndex: 286 entries, 0 to 285\n",
      "Data columns (total 10 columns):\n",
      " #   Column       Non-Null Count  Dtype \n",
      "---  ------       --------------  ----- \n",
      " 0   age          286 non-null    object\n",
      " 1   menopause    286 non-null    object\n",
      " 2   tumor-size   286 non-null    object\n",
      " 3   inv-nodes    286 non-null    object\n",
      " 4   node-caps    286 non-null    object\n",
      " 5   deg-malig    286 non-null    int64 \n",
      " 6   breast       286 non-null    object\n",
      " 7   breast-quad  286 non-null    object\n",
      " 8   irradiat     286 non-null    object\n",
      " 9   Class        286 non-null    object\n",
      "dtypes: int64(1), object(9)\n",
      "memory usage: 22.5+ KB\n"
     ]
    }
   ],
   "source": [
    "data.info()"
   ]
  },
  {
   "cell_type": "markdown",
   "id": "67f8ce43",
   "metadata": {},
   "source": [
    "## Dealing with data"
   ]
  },
  {
   "cell_type": "code",
   "execution_count": 4,
   "id": "be77e552",
   "metadata": {},
   "outputs": [
    {
     "data": {
      "text/plain": [
       "5.089632458666961"
      ]
     },
     "execution_count": 4,
     "metadata": {},
     "output_type": "execute_result"
    }
   ],
   "source": [
    "from scipy.stats import chi2_contingency\n",
    "table = pd.crosstab(data.age, data.breast)\n",
    "chi_2, p_value, dof, expected = chi2_contingency(table.values)\n",
    "chi_2"
   ]
  },
  {
   "cell_type": "code",
   "execution_count": 5,
   "id": "f1792b09",
   "metadata": {},
   "outputs": [
    {
     "data": {
      "text/plain": [
       "0.40503962934640186"
      ]
     },
     "execution_count": 5,
     "metadata": {},
     "output_type": "execute_result"
    }
   ],
   "source": [
    "p_value"
   ]
  },
  {
   "cell_type": "code",
   "execution_count": 6,
   "id": "1c383070",
   "metadata": {},
   "outputs": [
    {
     "data": {
      "text/html": [
       "<div>\n",
       "<style scoped>\n",
       "    .dataframe tbody tr th:only-of-type {\n",
       "        vertical-align: middle;\n",
       "    }\n",
       "\n",
       "    .dataframe tbody tr th {\n",
       "        vertical-align: top;\n",
       "    }\n",
       "\n",
       "    .dataframe thead th {\n",
       "        text-align: right;\n",
       "    }\n",
       "</style>\n",
       "<table border=\"1\" class=\"dataframe\">\n",
       "  <thead>\n",
       "    <tr style=\"text-align: right;\">\n",
       "      <th></th>\n",
       "      <th>age</th>\n",
       "      <th>menopause</th>\n",
       "      <th>tumorSize</th>\n",
       "      <th>invNodes</th>\n",
       "      <th>nodeCaps</th>\n",
       "      <th>degMalig</th>\n",
       "      <th>breast</th>\n",
       "      <th>breastQuad</th>\n",
       "      <th>irradiat</th>\n",
       "      <th>Class</th>\n",
       "    </tr>\n",
       "  </thead>\n",
       "  <tbody>\n",
       "    <tr>\n",
       "      <th>0</th>\n",
       "      <td>30-39</td>\n",
       "      <td>premeno</td>\n",
       "      <td>30-34</td>\n",
       "      <td>0-2</td>\n",
       "      <td>no</td>\n",
       "      <td>3</td>\n",
       "      <td>left</td>\n",
       "      <td>left_low</td>\n",
       "      <td>no</td>\n",
       "      <td>no-recurrence-events</td>\n",
       "    </tr>\n",
       "    <tr>\n",
       "      <th>1</th>\n",
       "      <td>40-49</td>\n",
       "      <td>premeno</td>\n",
       "      <td>20-24</td>\n",
       "      <td>0-2</td>\n",
       "      <td>no</td>\n",
       "      <td>2</td>\n",
       "      <td>right</td>\n",
       "      <td>right_up</td>\n",
       "      <td>no</td>\n",
       "      <td>no-recurrence-events</td>\n",
       "    </tr>\n",
       "    <tr>\n",
       "      <th>2</th>\n",
       "      <td>40-49</td>\n",
       "      <td>premeno</td>\n",
       "      <td>20-24</td>\n",
       "      <td>0-2</td>\n",
       "      <td>no</td>\n",
       "      <td>2</td>\n",
       "      <td>left</td>\n",
       "      <td>left_low</td>\n",
       "      <td>no</td>\n",
       "      <td>no-recurrence-events</td>\n",
       "    </tr>\n",
       "    <tr>\n",
       "      <th>3</th>\n",
       "      <td>60-69</td>\n",
       "      <td>ge40</td>\n",
       "      <td>15-19</td>\n",
       "      <td>0-2</td>\n",
       "      <td>no</td>\n",
       "      <td>2</td>\n",
       "      <td>right</td>\n",
       "      <td>left_up</td>\n",
       "      <td>no</td>\n",
       "      <td>no-recurrence-events</td>\n",
       "    </tr>\n",
       "    <tr>\n",
       "      <th>4</th>\n",
       "      <td>40-49</td>\n",
       "      <td>premeno</td>\n",
       "      <td>0-4</td>\n",
       "      <td>0-2</td>\n",
       "      <td>no</td>\n",
       "      <td>2</td>\n",
       "      <td>right</td>\n",
       "      <td>right_low</td>\n",
       "      <td>no</td>\n",
       "      <td>no-recurrence-events</td>\n",
       "    </tr>\n",
       "  </tbody>\n",
       "</table>\n",
       "</div>"
      ],
      "text/plain": [
       "     age menopause tumorSize invNodes nodeCaps  degMalig breast breastQuad  \\\n",
       "0  30-39   premeno     30-34      0-2       no         3   left   left_low   \n",
       "1  40-49   premeno     20-24      0-2       no         2  right   right_up   \n",
       "2  40-49   premeno     20-24      0-2       no         2   left   left_low   \n",
       "3  60-69      ge40     15-19      0-2       no         2  right    left_up   \n",
       "4  40-49   premeno       0-4      0-2       no         2  right  right_low   \n",
       "\n",
       "  irradiat                 Class  \n",
       "0       no  no-recurrence-events  \n",
       "1       no  no-recurrence-events  \n",
       "2       no  no-recurrence-events  \n",
       "3       no  no-recurrence-events  \n",
       "4       no  no-recurrence-events  "
      ]
     },
     "execution_count": 6,
     "metadata": {},
     "output_type": "execute_result"
    }
   ],
   "source": [
    "#Rename  some column names\n",
    "data.rename(columns={'tumor-size': 'tumorSize', 'inv-nodes': 'invNodes', 'node-caps': 'nodeCaps', 'deg-malig': 'degMalig', 'breast-quad': 'breastQuad'}, inplace = True)\n",
    "data.head()"
   ]
  },
  {
   "cell_type": "code",
   "execution_count": 7,
   "id": "97553b83",
   "metadata": {},
   "outputs": [
    {
     "data": {
      "text/plain": [
       "SpearmanrResult(correlation=-0.04439163607415352, pvalue=0.4545737844379072)"
      ]
     },
     "execution_count": 7,
     "metadata": {},
     "output_type": "execute_result"
    }
   ],
   "source": [
    "from scipy.stats import spearmanr\n",
    "\n",
    "#Finding the corralation of two features\n",
    "speaprmanr_coefficient = spearmanr(data.age, data.breast)\n",
    "speaprmanr_coefficient"
   ]
  },
  {
   "cell_type": "code",
   "execution_count": 8,
   "id": "ba0996c0",
   "metadata": {},
   "outputs": [
    {
     "data": {
      "text/plain": [
       "SpearmanrResult(correlation=-0.035748934510865644, pvalue=0.5470981483805499)"
      ]
     },
     "execution_count": 8,
     "metadata": {},
     "output_type": "execute_result"
    }
   ],
   "source": [
    "sp_co = spearmanr(data.age, data.tumorSize)\n",
    "sp_co"
   ]
  },
  {
   "cell_type": "code",
   "execution_count": 9,
   "id": "ed7f80ba",
   "metadata": {},
   "outputs": [
    {
     "data": {
      "image/png": "[encoded data removed]",
      "text/plain": [
       "<Figure size 432x288 with 1 Axes>"
      ]
     },
     "metadata": {
      "needs_background": "light"
     },
     "output_type": "display_data"
    }
   ],
   "source": [
    "# frequency of features\n",
    "plt.hist(data['age'], bins= 20)\n",
    "plt.xlabel('age_range')\n",
    "plt.ylabel('count')\n",
    "plt.show()"
   ]
  },
  {
   "cell_type": "code",
   "execution_count": 10,
   "id": "2ee2894a",
   "metadata": {},
   "outputs": [
    {
     "data": {
      "image/png": "[encoded data removed]",
      "text/plain": [
       "<Figure size 432x288 with 1 Axes>"
      ]
     },
     "metadata": {
      "needs_background": "light"
     },
     "output_type": "display_data"
    }
   ],
   "source": [
    "tumor_count = data.tumorSize.value_counts()\n",
    "category = tumor_count.index\n",
    "plt.bar(category, tumor_count)\n",
    "plt.xlabel('Tumor size')\n",
    "plt.ylabel('Count')\n",
    "plt.show()"
   ]
  },
  {
   "cell_type": "code",
   "execution_count": 11,
   "id": "aad6a76d",
   "metadata": {},
   "outputs": [
    {
     "data": {
      "image/png": "[encoded data removed]",
      "text/plain": [
       "<Figure size 432x288 with 1 Axes>"
      ]
     },
     "metadata": {
      "needs_background": "light"
     },
     "output_type": "display_data"
    }
   ],
   "source": [
    "plt.hist(data['menopause'], bins= 20)\n",
    "plt.show()"
   ]
  },
  {
   "cell_type": "markdown",
   "id": "c0fbaaf5",
   "metadata": {},
   "source": [
    "## Finding Null"
   ]
  },
  {
   "cell_type": "code",
   "execution_count": 12,
   "id": "ebe4974e",
   "metadata": {},
   "outputs": [
    {
     "data": {
      "text/plain": [
       "age           0\n",
       "menopause     0\n",
       "tumorSize     0\n",
       "invNodes      0\n",
       "nodeCaps      8\n",
       "degMalig      0\n",
       "breast        0\n",
       "breastQuad    1\n",
       "irradiat      0\n",
       "Class         0\n",
       "dtype: int64"
      ]
     },
     "execution_count": 12,
     "metadata": {},
     "output_type": "execute_result"
    }
   ],
   "source": [
    "data = data.replace('?', np.NaN)\n",
    "data.isnull().sum()"
   ]
  },
  {
   "cell_type": "code",
   "execution_count": 13,
   "id": "d85c71ae",
   "metadata": {},
   "outputs": [
    {
     "data": {
      "text/plain": [
       "age           0\n",
       "menopause     0\n",
       "tumorSize     0\n",
       "invNodes      0\n",
       "nodeCaps      0\n",
       "degMalig      0\n",
       "breast        0\n",
       "breastQuad    0\n",
       "irradiat      0\n",
       "Class         0\n",
       "dtype: int64"
      ]
     },
     "execution_count": 13,
     "metadata": {},
     "output_type": "execute_result"
    }
   ],
   "source": [
    "data.dropna(axis= 0, inplace= True)\n",
    "data.isnull().sum()"
   ]
  },
  {
   "cell_type": "code",
   "execution_count": 14,
   "id": "e07051ce",
   "metadata": {},
   "outputs": [
    {
     "data": {
      "text/plain": [
       "(277, 10)"
      ]
     },
     "execution_count": 14,
     "metadata": {},
     "output_type": "execute_result"
    }
   ],
   "source": [
    "data.shape"
   ]
  },
  {
   "cell_type": "code",
   "execution_count": 15,
   "id": "a475ece3",
   "metadata": {},
   "outputs": [],
   "source": [
    "from sklearn.preprocessing import LabelEncoder\n",
    "data['menopause'] = LabelEncoder().fit_transform(data['menopause'])"
   ]
  },
  {
   "cell_type": "code",
   "execution_count": 16,
   "id": "e54356b3",
   "metadata": {},
   "outputs": [],
   "source": [
    "data['nodeCaps'] = LabelEncoder().fit_transform(data['nodeCaps'])\n",
    "data['breast'] = LabelEncoder().fit_transform(data['breast'])\n",
    "data['breastQuad'] = LabelEncoder().fit_transform(data['breastQuad'])\n",
    "data['irradiat'] = data['irradiat'].map({'no': 0, 'yes': 1})\n",
    "data['Class'] = data['Class'].map({'no-recurrence-events': 0, 'recurrence-events': 1})"
   ]
  },
  {
   "cell_type": "code",
   "execution_count": 17,
   "id": "a739e17f",
   "metadata": {},
   "outputs": [
    {
     "data": {
      "text/html": [
       "<div>\n",
       "<style scoped>\n",
       "    .dataframe tbody tr th:only-of-type {\n",
       "        vertical-align: middle;\n",
       "    }\n",
       "\n",
       "    .dataframe tbody tr th {\n",
       "        vertical-align: top;\n",
       "    }\n",
       "\n",
       "    .dataframe thead th {\n",
       "        text-align: right;\n",
       "    }\n",
       "</style>\n",
       "<table border=\"1\" class=\"dataframe\">\n",
       "  <thead>\n",
       "    <tr style=\"text-align: right;\">\n",
       "      <th></th>\n",
       "      <th>age</th>\n",
       "      <th>menopause</th>\n",
       "      <th>tumorSize</th>\n",
       "      <th>invNodes</th>\n",
       "      <th>nodeCaps</th>\n",
       "      <th>degMalig</th>\n",
       "      <th>breast</th>\n",
       "      <th>breastQuad</th>\n",
       "      <th>irradiat</th>\n",
       "      <th>Class</th>\n",
       "    </tr>\n",
       "  </thead>\n",
       "  <tbody>\n",
       "    <tr>\n",
       "      <th>0</th>\n",
       "      <td>30-39</td>\n",
       "      <td>2</td>\n",
       "      <td>30-34</td>\n",
       "      <td>0-2</td>\n",
       "      <td>0</td>\n",
       "      <td>3</td>\n",
       "      <td>0</td>\n",
       "      <td>1</td>\n",
       "      <td>0</td>\n",
       "      <td>0</td>\n",
       "    </tr>\n",
       "    <tr>\n",
       "      <th>1</th>\n",
       "      <td>40-49</td>\n",
       "      <td>2</td>\n",
       "      <td>20-24</td>\n",
       "      <td>0-2</td>\n",
       "      <td>0</td>\n",
       "      <td>2</td>\n",
       "      <td>1</td>\n",
       "      <td>4</td>\n",
       "      <td>0</td>\n",
       "      <td>0</td>\n",
       "    </tr>\n",
       "    <tr>\n",
       "      <th>2</th>\n",
       "      <td>40-49</td>\n",
       "      <td>2</td>\n",
       "      <td>20-24</td>\n",
       "      <td>0-2</td>\n",
       "      <td>0</td>\n",
       "      <td>2</td>\n",
       "      <td>0</td>\n",
       "      <td>1</td>\n",
       "      <td>0</td>\n",
       "      <td>0</td>\n",
       "    </tr>\n",
       "    <tr>\n",
       "      <th>3</th>\n",
       "      <td>60-69</td>\n",
       "      <td>0</td>\n",
       "      <td>15-19</td>\n",
       "      <td>0-2</td>\n",
       "      <td>0</td>\n",
       "      <td>2</td>\n",
       "      <td>1</td>\n",
       "      <td>2</td>\n",
       "      <td>0</td>\n",
       "      <td>0</td>\n",
       "    </tr>\n",
       "    <tr>\n",
       "      <th>4</th>\n",
       "      <td>40-49</td>\n",
       "      <td>2</td>\n",
       "      <td>0-4</td>\n",
       "      <td>0-2</td>\n",
       "      <td>0</td>\n",
       "      <td>2</td>\n",
       "      <td>1</td>\n",
       "      <td>3</td>\n",
       "      <td>0</td>\n",
       "      <td>0</td>\n",
       "    </tr>\n",
       "  </tbody>\n",
       "</table>\n",
       "</div>"
      ],
      "text/plain": [
       "     age  menopause tumorSize invNodes  nodeCaps  degMalig  breast  \\\n",
       "0  30-39          2     30-34      0-2         0         3       0   \n",
       "1  40-49          2     20-24      0-2         0         2       1   \n",
       "2  40-49          2     20-24      0-2         0         2       0   \n",
       "3  60-69          0     15-19      0-2         0         2       1   \n",
       "4  40-49          2       0-4      0-2         0         2       1   \n",
       "\n",
       "   breastQuad  irradiat  Class  \n",
       "0           1         0      0  \n",
       "1           4         0      0  \n",
       "2           1         0      0  \n",
       "3           2         0      0  \n",
       "4           3         0      0  "
      ]
     },
     "execution_count": 17,
     "metadata": {},
     "output_type": "execute_result"
    }
   ],
   "source": [
    "data.head()"
   ]
  },
  {
   "cell_type": "code",
   "execution_count": 19,
   "id": "e71f6903",
   "metadata": {},
   "outputs": [
    {
     "data": {
      "text/plain": [
       "array(['30-34', '20-24', '20-24', '15-19', '0-4', '15-19', '25-29',\n",
       "       '20-24', '50-54', '20-24', '0-4', '25-29', '14-Oct', '25-29',\n",
       "       '30-34', '30-34', '15-19', '30-34', '30-34', '30-34', '40-44',\n",
       "       '15-19', '25-29', '40-44', '35-39', '25-29', '20-24', '25-29',\n",
       "       '40-44', '30-34', '40-44', '15-19', '14-Oct', '14-Oct', '14-Oct',\n",
       "       '30-34', '0-4', '15-19', '14-Oct', '30-34', '20-24', '25-29',\n",
       "       '9-May', '14-Oct', '50-54', '30-34', '25-29', '25-29', '20-24',\n",
       "       '20-24', '15-19', '20-24', '15-19', '20-24', '40-44', '40-44',\n",
       "       '0-4', '9-May', '30-34', '15-19', '20-24', '14-Oct', '0-4',\n",
       "       '35-39', '25-29', '14-Oct', '25-29', '20-24', '35-39', '50-54',\n",
       "       '14-Oct', '25-29', '20-24', '15-19', '9-May', '14-Oct', '14-Oct',\n",
       "       '25-29', '25-29', '25-29', '14-Oct', '14-Oct', '15-19', '15-19',\n",
       "       '20-24', '35-39', '25-29', '0-4', '20-24', '40-44', '0-4', '20-24',\n",
       "       '25-29', '20-24', '14-Oct', '30-34', '30-34', '15-19', '30-34',\n",
       "       '25-29', '20-24', '30-34', '25-29', '20-24', '14-Oct', '30-34',\n",
       "       '20-24', '40-44', '30-34', '30-34', '25-29', '15-19', '20-24',\n",
       "       '14-Oct', '35-39', '20-24', '15-19', '20-24', '14-Oct', '15-19',\n",
       "       '20-24', '15-19', '40-44', '30-34', '14-Oct', '14-Oct', '30-34',\n",
       "       '25-29', '25-29', '35-39', '35-39', '40-44', '30-34', '40-44',\n",
       "       '30-34', '20-24', '40-44', '9-May', '40-44', '30-34', '40-44',\n",
       "       '20-24', '14-Oct', '45-49', '45-49', '50-54', '30-34', '20-24',\n",
       "       '30-34', '25-29', '30-34', '35-39', '15-19', '15-19', '40-44',\n",
       "       '25-29', '30-34', '30-34', '35-39', '25-29', '30-34', '14-Oct',\n",
       "       '20-24', '20-24', '40-44', '14-Oct', '30-34', '20-24', '15-19',\n",
       "       '30-34', '20-24', '25-29', '30-34', '25-29', '14-Oct', '25-29',\n",
       "       '20-24', '35-39', '35-39', '25-29', '20-24', '25-29', '15-19',\n",
       "       '14-Oct', '20-24', '15-19', '25-29', '30-34', '14-Oct', '50-54',\n",
       "       '35-39', '14-Oct', '14-Oct', '15-19', '25-29', '25-29', '15-19',\n",
       "       '40-44', '35-39', '25-29', '0-4', '25-29', '30-34', '35-39',\n",
       "       '20-24', '20-24', '30-34', '25-29', '40-44', '20-24', '20-24',\n",
       "       '15-19', '30-34', '15-19', '25-29', '30-34', '25-29', '20-24',\n",
       "       '25-29', '20-24', '30-34', '30-34', '40-44', '45-49', '50-54',\n",
       "       '30-34', '30-34', '30-34', '25-29', '25-29', '25-29', '35-39',\n",
       "       '20-24', '20-24', '15-19', '25-29', '20-24', '30-34', '30-34',\n",
       "       '15-19', '30-34', '35-39', '20-24', '25-29', '50-54', '40-44',\n",
       "       '50-54', '30-34', '30-34', '30-34', '20-24', '30-34', '30-34',\n",
       "       '25-29', '25-29', '25-29', '35-39', '30-34', '20-24', '35-39',\n",
       "       '25-29', '30-34', '25-29', '15-19', '30-34', '30-34', '25-29',\n",
       "       '25-29', '14-Oct', '35-39', '40-44', '40-44', '30-34', '20-24',\n",
       "       '20-24', '30-34', '30-34'], dtype=object)"
      ]
     },
     "execution_count": 19,
     "metadata": {},
     "output_type": "execute_result"
    }
   ],
   "source": [
    "data['tumorSize'].values"
   ]
  },
  {
   "cell_type": "code",
   "execution_count": 20,
   "id": "5b33bca7",
   "metadata": {},
   "outputs": [
    {
     "data": {
      "text/plain": [
       "array(['30-34', '20-24', '20-24', '15-19', '0-4', '15-19', '25-29',\n",
       "       '20-24', '50-54', '20-24', '0-4', '25-29', '10-14', '25-29',\n",
       "       '30-34', '30-34', '15-19', '30-34', '30-34', '30-34', '40-44',\n",
       "       '15-19', '25-29', '40-44', '35-39', '25-29', '20-24', '25-29',\n",
       "       '40-44', '30-34', '40-44', '15-19', '10-14', '10-14', '10-14',\n",
       "       '30-34', '0-4', '15-19', '10-14', '30-34', '20-24', '25-29', '5-9',\n",
       "       '10-14', '50-54', '30-34', '25-29', '25-29', '20-24', '20-24',\n",
       "       '15-19', '20-24', '15-19', '20-24', '40-44', '40-44', '0-4', '5-9',\n",
       "       '30-34', '15-19', '20-24', '10-14', '0-4', '35-39', '25-29',\n",
       "       '10-14', '25-29', '20-24', '35-39', '50-54', '10-14', '25-29',\n",
       "       '20-24', '15-19', '5-9', '10-14', '10-14', '25-29', '25-29',\n",
       "       '25-29', '10-14', '10-14', '15-19', '15-19', '20-24', '35-39',\n",
       "       '25-29', '0-4', '20-24', '40-44', '0-4', '20-24', '25-29', '20-24',\n",
       "       '10-14', '30-34', '30-34', '15-19', '30-34', '25-29', '20-24',\n",
       "       '30-34', '25-29', '20-24', '10-14', '30-34', '20-24', '40-44',\n",
       "       '30-34', '30-34', '25-29', '15-19', '20-24', '10-14', '35-39',\n",
       "       '20-24', '15-19', '20-24', '10-14', '15-19', '20-24', '15-19',\n",
       "       '40-44', '30-34', '10-14', '10-14', '30-34', '25-29', '25-29',\n",
       "       '35-39', '35-39', '40-44', '30-34', '40-44', '30-34', '20-24',\n",
       "       '40-44', '5-9', '40-44', '30-34', '40-44', '20-24', '10-14',\n",
       "       '45-49', '45-49', '50-54', '30-34', '20-24', '30-34', '25-29',\n",
       "       '30-34', '35-39', '15-19', '15-19', '40-44', '25-29', '30-34',\n",
       "       '30-34', '35-39', '25-29', '30-34', '10-14', '20-24', '20-24',\n",
       "       '40-44', '10-14', '30-34', '20-24', '15-19', '30-34', '20-24',\n",
       "       '25-29', '30-34', '25-29', '10-14', '25-29', '20-24', '35-39',\n",
       "       '35-39', '25-29', '20-24', '25-29', '15-19', '10-14', '20-24',\n",
       "       '15-19', '25-29', '30-34', '10-14', '50-54', '35-39', '10-14',\n",
       "       '10-14', '15-19', '25-29', '25-29', '15-19', '40-44', '35-39',\n",
       "       '25-29', '0-4', '25-29', '30-34', '35-39', '20-24', '20-24',\n",
       "       '30-34', '25-29', '40-44', '20-24', '20-24', '15-19', '30-34',\n",
       "       '15-19', '25-29', '30-34', '25-29', '20-24', '25-29', '20-24',\n",
       "       '30-34', '30-34', '40-44', '45-49', '50-54', '30-34', '30-34',\n",
       "       '30-34', '25-29', '25-29', '25-29', '35-39', '20-24', '20-24',\n",
       "       '15-19', '25-29', '20-24', '30-34', '30-34', '15-19', '30-34',\n",
       "       '35-39', '20-24', '25-29', '50-54', '40-44', '50-54', '30-34',\n",
       "       '30-34', '30-34', '20-24', '30-34', '30-34', '25-29', '25-29',\n",
       "       '25-29', '35-39', '30-34', '20-24', '35-39', '25-29', '30-34',\n",
       "       '25-29', '15-19', '30-34', '30-34', '25-29', '25-29', '10-14',\n",
       "       '35-39', '40-44', '40-44', '30-34', '20-24', '20-24', '30-34',\n",
       "       '30-34'], dtype=object)"
      ]
     },
     "execution_count": 20,
     "metadata": {},
     "output_type": "execute_result"
    }
   ],
   "source": [
    "data['tumorSize'] = data['tumorSize'].replace('14-Oct', '10-14')\n",
    "data['tumorSize'] = data['tumorSize'].replace('9-May', '5-9')\n",
    "data['tumorSize'].values"
   ]
  },
  {
   "cell_type": "code",
   "execution_count": 21,
   "id": "96fe7d94",
   "metadata": {},
   "outputs": [
    {
     "data": {
      "text/plain": [
       "array(['0-2', '0-2', '0-2', '0-2', '0-2', '0-2', '0-2', '0-2', '0-2',\n",
       "       '0-2', '0-2', '0-2', '0-2', '0-2', '0-2', '0-2', '0-2', '0-2',\n",
       "       '0-2', '0-2', '0-2', '0-2', '0-2', '0-2', '0-2', '0-2', '0-2',\n",
       "       '0-2', '0-2', '0-2', '0-2', '0-2', '0-2', '0-2', '0-2', '0-2',\n",
       "       '0-2', '0-2', '0-2', '0-2', '0-2', '0-2', '0-2', '0-2', '0-2',\n",
       "       '0-2', '0-2', '0-2', '0-2', '0-2', '0-2', '0-2', '0-2', '0-2',\n",
       "       '0-2', '0-2', '0-2', '0-2', '0-2', '0-2', '0-2', '0-2', '0-2',\n",
       "       '0-2', '0-2', '0-2', '0-2', '0-2', '0-2', '0-2', '0-2', '0-2',\n",
       "       '0-2', '0-2', '0-2', '0-2', '0-2', '0-2', '0-2', '0-2', '0-2',\n",
       "       '0-2', '0-2', '0-2', '0-2', '0-2', '0-2', '0-2', '0-2', '0-2',\n",
       "       '0-2', '0-2', '0-2', '0-2', '0-2', '0-2', '0-2', '0-2', '0-2',\n",
       "       '0-2', '0-2', '0-2', '0-2', '0-2', '0-2', '0-2', '0-2', '0-2',\n",
       "       '0-2', '0-2', '0-2', '0-2', '0-2', '0-2', '0-2', '0-2', '0-2',\n",
       "       '0-2', '0-2', '0-2', '0-2', '0-2', '0-2', '0-2', '0-2', '0-2',\n",
       "       '8-Jun', '8-Jun', '0-2', '11-Sep', '11-Sep', '5-Mar', '8-Jun',\n",
       "       '0-2', '0-2', '5-Mar', '5-Mar', '0-2', '0-2', '0-2', '5-Mar',\n",
       "       '5-Mar', '0-2', '0-2', '8-Jun', '0-2', '5-Mar', '0-2', '0-2',\n",
       "       '15-17', '5-Mar', '15-17', '0-2', '0-2', '5-Mar', '5-Mar', '0-2',\n",
       "       '0-2', '0-2', '0-2', '5-Mar', '0-2', '5-Mar', '5-Mar', '15-17',\n",
       "       '0-2', '0-2', '5-Mar', '0-2', '8-Jun', '5-Mar', '5-Mar', '0-2',\n",
       "       '0-2', '0-2', '5-Mar', '0-2', '0-2', '0-2', '0-2', '8-Jun', '0-2',\n",
       "       '0-2', '0-2', '0-2', '14-Dec', '0-2', '8-Jun', '0-2', '0-2', '0-2',\n",
       "       '5-Mar', '0-2', '0-2', '0-2', '0-2', '0-2', '0-2', '0-2', '0-2',\n",
       "       '0-2', '0-2', '0-2', '0-2', '0-2', '0-2', '0-2', '0-2', '0-2',\n",
       "       '0-2', '0-2', '0-2', '0-2', '0-2', '0-2', '0-2', '0-2', '0-2',\n",
       "       '5-Mar', '5-Mar', '15-17', '0-2', '5-Mar', '0-2', '11-Sep',\n",
       "       '5-Mar', '5-Mar', '0-2', '5-Mar', '0-2', '0-2', '0-2', '5-Mar',\n",
       "       '5-Mar', '15-17', '8-Jun', '5-Mar', '14-Dec', '11-Sep', '8-Jun',\n",
       "       '11-Sep', '8-Jun', '5-Mar', '0-2', '0-2', '0-2', '0-2', '0-2',\n",
       "       '8-Jun', '0-2', '5-Mar', '8-Jun', '5-Mar', '5-Mar', '14-Dec',\n",
       "       '0-2', '11-Sep', '5-Mar', '24-26', '0-2', '0-2', '8-Jun', '0-2',\n",
       "       '0-2', '0-2', '5-Mar', '11-Sep', '8-Jun', '8-Jun', '15-17',\n",
       "       '8-Jun', '8-Jun', '0-2', '0-2', '0-2', '5-Mar', '5-Mar'],\n",
       "      dtype=object)"
      ]
     },
     "execution_count": 21,
     "metadata": {},
     "output_type": "execute_result"
    }
   ],
   "source": [
    "data['invNodes'].values"
   ]
  },
  {
   "cell_type": "code",
   "execution_count": 22,
   "id": "1530b65d",
   "metadata": {},
   "outputs": [
    {
     "data": {
      "text/plain": [
       "array(['0-2', '0-2', '0-2', '0-2', '0-2', '0-2', '0-2', '0-2', '0-2',\n",
       "       '0-2', '0-2', '0-2', '0-2', '0-2', '0-2', '0-2', '0-2', '0-2',\n",
       "       '0-2', '0-2', '0-2', '0-2', '0-2', '0-2', '0-2', '0-2', '0-2',\n",
       "       '0-2', '0-2', '0-2', '0-2', '0-2', '0-2', '0-2', '0-2', '0-2',\n",
       "       '0-2', '0-2', '0-2', '0-2', '0-2', '0-2', '0-2', '0-2', '0-2',\n",
       "       '0-2', '0-2', '0-2', '0-2', '0-2', '0-2', '0-2', '0-2', '0-2',\n",
       "       '0-2', '0-2', '0-2', '0-2', '0-2', '0-2', '0-2', '0-2', '0-2',\n",
       "       '0-2', '0-2', '0-2', '0-2', '0-2', '0-2', '0-2', '0-2', '0-2',\n",
       "       '0-2', '0-2', '0-2', '0-2', '0-2', '0-2', '0-2', '0-2', '0-2',\n",
       "       '0-2', '0-2', '0-2', '0-2', '0-2', '0-2', '0-2', '0-2', '0-2',\n",
       "       '0-2', '0-2', '0-2', '0-2', '0-2', '0-2', '0-2', '0-2', '0-2',\n",
       "       '0-2', '0-2', '0-2', '0-2', '0-2', '0-2', '0-2', '0-2', '0-2',\n",
       "       '0-2', '0-2', '0-2', '0-2', '0-2', '0-2', '0-2', '0-2', '0-2',\n",
       "       '0-2', '0-2', '0-2', '0-2', '0-2', '0-2', '0-2', '0-2', '0-2',\n",
       "       '6-8', '6-8', '0-2', '9-11', '9-11', '3-5', '6-8', '0-2', '0-2',\n",
       "       '3-5', '3-5', '0-2', '0-2', '0-2', '3-5', '3-5', '0-2', '0-2',\n",
       "       '6-8', '0-2', '3-5', '0-2', '0-2', '15-17', '3-5', '15-17', '0-2',\n",
       "       '0-2', '3-5', '3-5', '0-2', '0-2', '0-2', '0-2', '3-5', '0-2',\n",
       "       '3-5', '3-5', '15-17', '0-2', '0-2', '3-5', '0-2', '6-8', '3-5',\n",
       "       '3-5', '0-2', '0-2', '0-2', '3-5', '0-2', '0-2', '0-2', '0-2',\n",
       "       '6-8', '0-2', '0-2', '0-2', '0-2', '12-14', '0-2', '6-8', '0-2',\n",
       "       '0-2', '0-2', '3-5', '0-2', '0-2', '0-2', '0-2', '0-2', '0-2',\n",
       "       '0-2', '0-2', '0-2', '0-2', '0-2', '0-2', '0-2', '0-2', '0-2',\n",
       "       '0-2', '0-2', '0-2', '0-2', '0-2', '0-2', '0-2', '0-2', '0-2',\n",
       "       '0-2', '0-2', '3-5', '3-5', '15-17', '0-2', '3-5', '0-2', '9-11',\n",
       "       '3-5', '3-5', '0-2', '3-5', '0-2', '0-2', '0-2', '3-5', '3-5',\n",
       "       '15-17', '6-8', '3-5', '12-14', '9-11', '6-8', '9-11', '6-8',\n",
       "       '3-5', '0-2', '0-2', '0-2', '0-2', '0-2', '6-8', '0-2', '3-5',\n",
       "       '6-8', '3-5', '3-5', '12-14', '0-2', '9-11', '3-5', '24-26', '0-2',\n",
       "       '0-2', '6-8', '0-2', '0-2', '0-2', '3-5', '9-11', '6-8', '6-8',\n",
       "       '15-17', '6-8', '6-8', '0-2', '0-2', '0-2', '3-5', '3-5'],\n",
       "      dtype=object)"
      ]
     },
     "execution_count": 22,
     "metadata": {},
     "output_type": "execute_result"
    }
   ],
   "source": [
    "data['invNodes'] = data['invNodes'].replace('5-Mar', '3-5')\n",
    "data['invNodes'] = data['invNodes'].replace('8-Jun', '6-8')\n",
    "data['invNodes'] = data['invNodes'].replace('11-Sep', '9-11')\n",
    "data['invNodes'] = data['invNodes'].replace('14-Dec', '12-14')\n",
    "data['invNodes'].values"
   ]
  },
  {
   "cell_type": "code",
   "execution_count": 23,
   "id": "1c5f0622",
   "metadata": {},
   "outputs": [],
   "source": [
    "def split_mean(x):\n",
    "    split_list = x.split('-')\n",
    "    mean = (float(split_list[0]) + float(split_list[1])) / 2\n",
    "    return mean"
   ]
  },
  {
   "cell_type": "code",
   "execution_count": 24,
   "id": "016d9718",
   "metadata": {},
   "outputs": [
    {
     "data": {
      "text/html": [
       "<div>\n",
       "<style scoped>\n",
       "    .dataframe tbody tr th:only-of-type {\n",
       "        vertical-align: middle;\n",
       "    }\n",
       "\n",
       "    .dataframe tbody tr th {\n",
       "        vertical-align: top;\n",
       "    }\n",
       "\n",
       "    .dataframe thead th {\n",
       "        text-align: right;\n",
       "    }\n",
       "</style>\n",
       "<table border=\"1\" class=\"dataframe\">\n",
       "  <thead>\n",
       "    <tr style=\"text-align: right;\">\n",
       "      <th></th>\n",
       "      <th>age</th>\n",
       "      <th>menopause</th>\n",
       "      <th>tumorSize</th>\n",
       "      <th>invNodes</th>\n",
       "      <th>nodeCaps</th>\n",
       "      <th>degMalig</th>\n",
       "      <th>breast</th>\n",
       "      <th>breastQuad</th>\n",
       "      <th>irradiat</th>\n",
       "      <th>Class</th>\n",
       "      <th>age_mean</th>\n",
       "      <th>tumorSize_mean</th>\n",
       "      <th>invNodes_mean</th>\n",
       "    </tr>\n",
       "  </thead>\n",
       "  <tbody>\n",
       "    <tr>\n",
       "      <th>0</th>\n",
       "      <td>30-39</td>\n",
       "      <td>2</td>\n",
       "      <td>30-34</td>\n",
       "      <td>0-2</td>\n",
       "      <td>0</td>\n",
       "      <td>3</td>\n",
       "      <td>0</td>\n",
       "      <td>1</td>\n",
       "      <td>0</td>\n",
       "      <td>0</td>\n",
       "      <td>34.5</td>\n",
       "      <td>32.0</td>\n",
       "      <td>1.0</td>\n",
       "    </tr>\n",
       "    <tr>\n",
       "      <th>1</th>\n",
       "      <td>40-49</td>\n",
       "      <td>2</td>\n",
       "      <td>20-24</td>\n",
       "      <td>0-2</td>\n",
       "      <td>0</td>\n",
       "      <td>2</td>\n",
       "      <td>1</td>\n",
       "      <td>4</td>\n",
       "      <td>0</td>\n",
       "      <td>0</td>\n",
       "      <td>44.5</td>\n",
       "      <td>22.0</td>\n",
       "      <td>1.0</td>\n",
       "    </tr>\n",
       "    <tr>\n",
       "      <th>2</th>\n",
       "      <td>40-49</td>\n",
       "      <td>2</td>\n",
       "      <td>20-24</td>\n",
       "      <td>0-2</td>\n",
       "      <td>0</td>\n",
       "      <td>2</td>\n",
       "      <td>0</td>\n",
       "      <td>1</td>\n",
       "      <td>0</td>\n",
       "      <td>0</td>\n",
       "      <td>44.5</td>\n",
       "      <td>22.0</td>\n",
       "      <td>1.0</td>\n",
       "    </tr>\n",
       "    <tr>\n",
       "      <th>3</th>\n",
       "      <td>60-69</td>\n",
       "      <td>0</td>\n",
       "      <td>15-19</td>\n",
       "      <td>0-2</td>\n",
       "      <td>0</td>\n",
       "      <td>2</td>\n",
       "      <td>1</td>\n",
       "      <td>2</td>\n",
       "      <td>0</td>\n",
       "      <td>0</td>\n",
       "      <td>64.5</td>\n",
       "      <td>17.0</td>\n",
       "      <td>1.0</td>\n",
       "    </tr>\n",
       "    <tr>\n",
       "      <th>4</th>\n",
       "      <td>40-49</td>\n",
       "      <td>2</td>\n",
       "      <td>0-4</td>\n",
       "      <td>0-2</td>\n",
       "      <td>0</td>\n",
       "      <td>2</td>\n",
       "      <td>1</td>\n",
       "      <td>3</td>\n",
       "      <td>0</td>\n",
       "      <td>0</td>\n",
       "      <td>44.5</td>\n",
       "      <td>2.0</td>\n",
       "      <td>1.0</td>\n",
       "    </tr>\n",
       "  </tbody>\n",
       "</table>\n",
       "</div>"
      ],
      "text/plain": [
       "     age  menopause tumorSize invNodes  nodeCaps  degMalig  breast  \\\n",
       "0  30-39          2     30-34      0-2         0         3       0   \n",
       "1  40-49          2     20-24      0-2         0         2       1   \n",
       "2  40-49          2     20-24      0-2         0         2       0   \n",
       "3  60-69          0     15-19      0-2         0         2       1   \n",
       "4  40-49          2       0-4      0-2         0         2       1   \n",
       "\n",
       "   breastQuad  irradiat  Class  age_mean  tumorSize_mean  invNodes_mean  \n",
       "0           1         0      0      34.5            32.0            1.0  \n",
       "1           4         0      0      44.5            22.0            1.0  \n",
       "2           1         0      0      44.5            22.0            1.0  \n",
       "3           2         0      0      64.5            17.0            1.0  \n",
       "4           3         0      0      44.5             2.0            1.0  "
      ]
     },
     "execution_count": 24,
     "metadata": {},
     "output_type": "execute_result"
    }
   ],
   "source": [
    "data['age_mean'] = data['age'].apply(lambda x: split_mean(x))\n",
    "data['tumorSize_mean'] = data['tumorSize'].apply(lambda x: split_mean(x))\n",
    "data['invNodes_mean'] = data['invNodes'].apply(lambda x: split_mean(x))\n",
    "data.head()"
   ]
  },
  {
   "cell_type": "code",
   "execution_count": 25,
   "id": "15a2306f",
   "metadata": {},
   "outputs": [
    {
     "data": {
      "text/html": [
       "<div>\n",
       "<style scoped>\n",
       "    .dataframe tbody tr th:only-of-type {\n",
       "        vertical-align: middle;\n",
       "    }\n",
       "\n",
       "    .dataframe tbody tr th {\n",
       "        vertical-align: top;\n",
       "    }\n",
       "\n",
       "    .dataframe thead th {\n",
       "        text-align: right;\n",
       "    }\n",
       "</style>\n",
       "<table border=\"1\" class=\"dataframe\">\n",
       "  <thead>\n",
       "    <tr style=\"text-align: right;\">\n",
       "      <th></th>\n",
       "      <th>menopause</th>\n",
       "      <th>nodeCaps</th>\n",
       "      <th>degMalig</th>\n",
       "      <th>breast</th>\n",
       "      <th>breastQuad</th>\n",
       "      <th>irradiat</th>\n",
       "      <th>Class</th>\n",
       "      <th>age_mean</th>\n",
       "      <th>tumorSize_mean</th>\n",
       "      <th>invNodes_mean</th>\n",
       "    </tr>\n",
       "  </thead>\n",
       "  <tbody>\n",
       "    <tr>\n",
       "      <th>0</th>\n",
       "      <td>2</td>\n",
       "      <td>0</td>\n",
       "      <td>3</td>\n",
       "      <td>0</td>\n",
       "      <td>1</td>\n",
       "      <td>0</td>\n",
       "      <td>0</td>\n",
       "      <td>34.5</td>\n",
       "      <td>32.0</td>\n",
       "      <td>1.0</td>\n",
       "    </tr>\n",
       "    <tr>\n",
       "      <th>1</th>\n",
       "      <td>2</td>\n",
       "      <td>0</td>\n",
       "      <td>2</td>\n",
       "      <td>1</td>\n",
       "      <td>4</td>\n",
       "      <td>0</td>\n",
       "      <td>0</td>\n",
       "      <td>44.5</td>\n",
       "      <td>22.0</td>\n",
       "      <td>1.0</td>\n",
       "    </tr>\n",
       "    <tr>\n",
       "      <th>2</th>\n",
       "      <td>2</td>\n",
       "      <td>0</td>\n",
       "      <td>2</td>\n",
       "      <td>0</td>\n",
       "      <td>1</td>\n",
       "      <td>0</td>\n",
       "      <td>0</td>\n",
       "      <td>44.5</td>\n",
       "      <td>22.0</td>\n",
       "      <td>1.0</td>\n",
       "    </tr>\n",
       "    <tr>\n",
       "      <th>3</th>\n",
       "      <td>0</td>\n",
       "      <td>0</td>\n",
       "      <td>2</td>\n",
       "      <td>1</td>\n",
       "      <td>2</td>\n",
       "      <td>0</td>\n",
       "      <td>0</td>\n",
       "      <td>64.5</td>\n",
       "      <td>17.0</td>\n",
       "      <td>1.0</td>\n",
       "    </tr>\n",
       "    <tr>\n",
       "      <th>4</th>\n",
       "      <td>2</td>\n",
       "      <td>0</td>\n",
       "      <td>2</td>\n",
       "      <td>1</td>\n",
       "      <td>3</td>\n",
       "      <td>0</td>\n",
       "      <td>0</td>\n",
       "      <td>44.5</td>\n",
       "      <td>2.0</td>\n",
       "      <td>1.0</td>\n",
       "    </tr>\n",
       "  </tbody>\n",
       "</table>\n",
       "</div>"
      ],
      "text/plain": [
       "   menopause  nodeCaps  degMalig  breast  breastQuad  irradiat  Class  \\\n",
       "0          2         0         3       0           1         0      0   \n",
       "1          2         0         2       1           4         0      0   \n",
       "2          2         0         2       0           1         0      0   \n",
       "3          0         0         2       1           2         0      0   \n",
       "4          2         0         2       1           3         0      0   \n",
       "\n",
       "   age_mean  tumorSize_mean  invNodes_mean  \n",
       "0      34.5            32.0            1.0  \n",
       "1      44.5            22.0            1.0  \n",
       "2      44.5            22.0            1.0  \n",
       "3      64.5            17.0            1.0  \n",
       "4      44.5             2.0            1.0  "
      ]
     },
     "execution_count": 25,
     "metadata": {},
     "output_type": "execute_result"
    }
   ],
   "source": [
    "data.drop(['age', 'tumorSize', 'invNodes'], axis= 1, inplace= True)\n",
    "data.head()"
   ]
  },
  {
   "cell_type": "code",
   "execution_count": 26,
   "id": "c952ae56",
   "metadata": {},
   "outputs": [
    {
     "data": {
      "text/html": [
       "<div>\n",
       "<style scoped>\n",
       "    .dataframe tbody tr th:only-of-type {\n",
       "        vertical-align: middle;\n",
       "    }\n",
       "\n",
       "    .dataframe tbody tr th {\n",
       "        vertical-align: top;\n",
       "    }\n",
       "\n",
       "    .dataframe thead th {\n",
       "        text-align: right;\n",
       "    }\n",
       "</style>\n",
       "<table border=\"1\" class=\"dataframe\">\n",
       "  <thead>\n",
       "    <tr style=\"text-align: right;\">\n",
       "      <th></th>\n",
       "      <th>age_mean</th>\n",
       "      <th>tumorSize_mean</th>\n",
       "      <th>invNodes_mean</th>\n",
       "      <th>menopause</th>\n",
       "      <th>nodeCaps</th>\n",
       "      <th>degMalig</th>\n",
       "      <th>breast</th>\n",
       "      <th>breastQuad</th>\n",
       "      <th>irradiat</th>\n",
       "      <th>Class</th>\n",
       "    </tr>\n",
       "  </thead>\n",
       "  <tbody>\n",
       "    <tr>\n",
       "      <th>0</th>\n",
       "      <td>34.5</td>\n",
       "      <td>32.0</td>\n",
       "      <td>1.0</td>\n",
       "      <td>2</td>\n",
       "      <td>0</td>\n",
       "      <td>3</td>\n",
       "      <td>0</td>\n",
       "      <td>1</td>\n",
       "      <td>0</td>\n",
       "      <td>0</td>\n",
       "    </tr>\n",
       "    <tr>\n",
       "      <th>1</th>\n",
       "      <td>44.5</td>\n",
       "      <td>22.0</td>\n",
       "      <td>1.0</td>\n",
       "      <td>2</td>\n",
       "      <td>0</td>\n",
       "      <td>2</td>\n",
       "      <td>1</td>\n",
       "      <td>4</td>\n",
       "      <td>0</td>\n",
       "      <td>0</td>\n",
       "    </tr>\n",
       "    <tr>\n",
       "      <th>2</th>\n",
       "      <td>44.5</td>\n",
       "      <td>22.0</td>\n",
       "      <td>1.0</td>\n",
       "      <td>2</td>\n",
       "      <td>0</td>\n",
       "      <td>2</td>\n",
       "      <td>0</td>\n",
       "      <td>1</td>\n",
       "      <td>0</td>\n",
       "      <td>0</td>\n",
       "    </tr>\n",
       "    <tr>\n",
       "      <th>3</th>\n",
       "      <td>64.5</td>\n",
       "      <td>17.0</td>\n",
       "      <td>1.0</td>\n",
       "      <td>0</td>\n",
       "      <td>0</td>\n",
       "      <td>2</td>\n",
       "      <td>1</td>\n",
       "      <td>2</td>\n",
       "      <td>0</td>\n",
       "      <td>0</td>\n",
       "    </tr>\n",
       "    <tr>\n",
       "      <th>4</th>\n",
       "      <td>44.5</td>\n",
       "      <td>2.0</td>\n",
       "      <td>1.0</td>\n",
       "      <td>2</td>\n",
       "      <td>0</td>\n",
       "      <td>2</td>\n",
       "      <td>1</td>\n",
       "      <td>3</td>\n",
       "      <td>0</td>\n",
       "      <td>0</td>\n",
       "    </tr>\n",
       "  </tbody>\n",
       "</table>\n",
       "</div>"
      ],
      "text/plain": [
       "   age_mean  tumorSize_mean  invNodes_mean  menopause  nodeCaps  degMalig  \\\n",
       "0      34.5            32.0            1.0          2         0         3   \n",
       "1      44.5            22.0            1.0          2         0         2   \n",
       "2      44.5            22.0            1.0          2         0         2   \n",
       "3      64.5            17.0            1.0          0         0         2   \n",
       "4      44.5             2.0            1.0          2         0         2   \n",
       "\n",
       "   breast  breastQuad  irradiat  Class  \n",
       "0       0           1         0      0  \n",
       "1       1           4         0      0  \n",
       "2       0           1         0      0  \n",
       "3       1           2         0      0  \n",
       "4       1           3         0      0  "
      ]
     },
     "execution_count": 26,
     "metadata": {},
     "output_type": "execute_result"
    }
   ],
   "source": [
    "new_list = ['age_mean', 'tumorSize_mean', 'invNodes_mean', 'menopause', 'nodeCaps', 'degMalig', 'breast', 'breastQuad', 'irradiat', 'Class']\n",
    "data = data[new_list]\n",
    "data.head()"
   ]
  },
  {
   "cell_type": "code",
   "execution_count": 27,
   "id": "1fa9ec9f",
   "metadata": {},
   "outputs": [
    {
     "name": "stdout",
     "output_type": "stream",
     "text": [
      "<class 'pandas.core.frame.DataFrame'>\n",
      "Int64Index: 277 entries, 0 to 285\n",
      "Data columns (total 10 columns):\n",
      " #   Column          Non-Null Count  Dtype  \n",
      "---  ------          --------------  -----  \n",
      " 0   age_mean        277 non-null    float64\n",
      " 1   tumorSize_mean  277 non-null    float64\n",
      " 2   invNodes_mean   277 non-null    float64\n",
      " 3   menopause       277 non-null    int32  \n",
      " 4   nodeCaps        277 non-null    int32  \n",
      " 5   degMalig        277 non-null    int64  \n",
      " 6   breast          277 non-null    int32  \n",
      " 7   breastQuad      277 non-null    int32  \n",
      " 8   irradiat        277 non-null    int64  \n",
      " 9   Class           277 non-null    int64  \n",
      "dtypes: float64(3), int32(4), int64(3)\n",
      "memory usage: 19.5 KB\n"
     ]
    }
   ],
   "source": [
    "data.info()"
   ]
  },
  {
   "cell_type": "code",
   "execution_count": 28,
   "id": "0a52e7b8",
   "metadata": {},
   "outputs": [
    {
     "data": {
      "text/html": [
       "<div>\n",
       "<style scoped>\n",
       "    .dataframe tbody tr th:only-of-type {\n",
       "        vertical-align: middle;\n",
       "    }\n",
       "\n",
       "    .dataframe tbody tr th {\n",
       "        vertical-align: top;\n",
       "    }\n",
       "\n",
       "    .dataframe thead th {\n",
       "        text-align: right;\n",
       "    }\n",
       "</style>\n",
       "<table border=\"1\" class=\"dataframe\">\n",
       "  <thead>\n",
       "    <tr style=\"text-align: right;\">\n",
       "      <th></th>\n",
       "      <th>age_mean</th>\n",
       "      <th>tumorSize_mean</th>\n",
       "      <th>invNodes_mean</th>\n",
       "      <th>menopause</th>\n",
       "      <th>nodeCaps</th>\n",
       "      <th>degMalig</th>\n",
       "      <th>breast</th>\n",
       "      <th>breastQuad</th>\n",
       "      <th>irradiat</th>\n",
       "    </tr>\n",
       "  </thead>\n",
       "  <tbody>\n",
       "    <tr>\n",
       "      <th>0</th>\n",
       "      <td>34.5</td>\n",
       "      <td>32.0</td>\n",
       "      <td>1.0</td>\n",
       "      <td>2</td>\n",
       "      <td>0</td>\n",
       "      <td>3</td>\n",
       "      <td>0</td>\n",
       "      <td>1</td>\n",
       "      <td>0</td>\n",
       "    </tr>\n",
       "    <tr>\n",
       "      <th>1</th>\n",
       "      <td>44.5</td>\n",
       "      <td>22.0</td>\n",
       "      <td>1.0</td>\n",
       "      <td>2</td>\n",
       "      <td>0</td>\n",
       "      <td>2</td>\n",
       "      <td>1</td>\n",
       "      <td>4</td>\n",
       "      <td>0</td>\n",
       "    </tr>\n",
       "    <tr>\n",
       "      <th>2</th>\n",
       "      <td>44.5</td>\n",
       "      <td>22.0</td>\n",
       "      <td>1.0</td>\n",
       "      <td>2</td>\n",
       "      <td>0</td>\n",
       "      <td>2</td>\n",
       "      <td>0</td>\n",
       "      <td>1</td>\n",
       "      <td>0</td>\n",
       "    </tr>\n",
       "    <tr>\n",
       "      <th>3</th>\n",
       "      <td>64.5</td>\n",
       "      <td>17.0</td>\n",
       "      <td>1.0</td>\n",
       "      <td>0</td>\n",
       "      <td>0</td>\n",
       "      <td>2</td>\n",
       "      <td>1</td>\n",
       "      <td>2</td>\n",
       "      <td>0</td>\n",
       "    </tr>\n",
       "    <tr>\n",
       "      <th>4</th>\n",
       "      <td>44.5</td>\n",
       "      <td>2.0</td>\n",
       "      <td>1.0</td>\n",
       "      <td>2</td>\n",
       "      <td>0</td>\n",
       "      <td>2</td>\n",
       "      <td>1</td>\n",
       "      <td>3</td>\n",
       "      <td>0</td>\n",
       "    </tr>\n",
       "    <tr>\n",
       "      <th>...</th>\n",
       "      <td>...</td>\n",
       "      <td>...</td>\n",
       "      <td>...</td>\n",
       "      <td>...</td>\n",
       "      <td>...</td>\n",
       "      <td>...</td>\n",
       "      <td>...</td>\n",
       "      <td>...</td>\n",
       "      <td>...</td>\n",
       "    </tr>\n",
       "    <tr>\n",
       "      <th>281</th>\n",
       "      <td>34.5</td>\n",
       "      <td>32.0</td>\n",
       "      <td>1.0</td>\n",
       "      <td>2</td>\n",
       "      <td>0</td>\n",
       "      <td>2</td>\n",
       "      <td>0</td>\n",
       "      <td>2</td>\n",
       "      <td>0</td>\n",
       "    </tr>\n",
       "    <tr>\n",
       "      <th>282</th>\n",
       "      <td>34.5</td>\n",
       "      <td>22.0</td>\n",
       "      <td>1.0</td>\n",
       "      <td>2</td>\n",
       "      <td>0</td>\n",
       "      <td>3</td>\n",
       "      <td>0</td>\n",
       "      <td>2</td>\n",
       "      <td>1</td>\n",
       "    </tr>\n",
       "    <tr>\n",
       "      <th>283</th>\n",
       "      <td>64.5</td>\n",
       "      <td>22.0</td>\n",
       "      <td>1.0</td>\n",
       "      <td>0</td>\n",
       "      <td>0</td>\n",
       "      <td>1</td>\n",
       "      <td>1</td>\n",
       "      <td>2</td>\n",
       "      <td>0</td>\n",
       "    </tr>\n",
       "    <tr>\n",
       "      <th>284</th>\n",
       "      <td>44.5</td>\n",
       "      <td>32.0</td>\n",
       "      <td>4.0</td>\n",
       "      <td>0</td>\n",
       "      <td>0</td>\n",
       "      <td>3</td>\n",
       "      <td>0</td>\n",
       "      <td>1</td>\n",
       "      <td>0</td>\n",
       "    </tr>\n",
       "    <tr>\n",
       "      <th>285</th>\n",
       "      <td>54.5</td>\n",
       "      <td>32.0</td>\n",
       "      <td>4.0</td>\n",
       "      <td>0</td>\n",
       "      <td>0</td>\n",
       "      <td>3</td>\n",
       "      <td>0</td>\n",
       "      <td>1</td>\n",
       "      <td>0</td>\n",
       "    </tr>\n",
       "  </tbody>\n",
       "</table>\n",
       "<p>277 rows × 9 columns</p>\n",
       "</div>"
      ],
      "text/plain": [
       "     age_mean  tumorSize_mean  invNodes_mean  menopause  nodeCaps  degMalig  \\\n",
       "0        34.5            32.0            1.0          2         0         3   \n",
       "1        44.5            22.0            1.0          2         0         2   \n",
       "2        44.5            22.0            1.0          2         0         2   \n",
       "3        64.5            17.0            1.0          0         0         2   \n",
       "4        44.5             2.0            1.0          2         0         2   \n",
       "..        ...             ...            ...        ...       ...       ...   \n",
       "281      34.5            32.0            1.0          2         0         2   \n",
       "282      34.5            22.0            1.0          2         0         3   \n",
       "283      64.5            22.0            1.0          0         0         1   \n",
       "284      44.5            32.0            4.0          0         0         3   \n",
       "285      54.5            32.0            4.0          0         0         3   \n",
       "\n",
       "     breast  breastQuad  irradiat  \n",
       "0         0           1         0  \n",
       "1         1           4         0  \n",
       "2         0           1         0  \n",
       "3         1           2         0  \n",
       "4         1           3         0  \n",
       "..      ...         ...       ...  \n",
       "281       0           2         0  \n",
       "282       0           2         1  \n",
       "283       1           2         0  \n",
       "284       0           1         0  \n",
       "285       0           1         0  \n",
       "\n",
       "[277 rows x 9 columns]"
      ]
     },
     "execution_count": 28,
     "metadata": {},
     "output_type": "execute_result"
    }
   ],
   "source": [
    "X = data.iloc[:, :9]\n",
    "Y = data.iloc[:,  9]\n",
    "X"
   ]
  },
  {
   "cell_type": "code",
   "execution_count": 29,
   "id": "6fd9a2a1",
   "metadata": {},
   "outputs": [
    {
     "data": {
      "text/plain": [
       "<seaborn.axisgrid.PairGrid at 0x20d1facfa00>"
      ]
     },
     "execution_count": 29,
     "metadata": {},
     "output_type": "execute_result"
    },
    {
     "data": {
      "image/png": "[encoded data removed]",
      "text/plain": [
       "<Figure size 1620x1620 with 90 Axes>"
      ]
     },
     "metadata": {
      "needs_background": "light"
     },
     "output_type": "display_data"
    }
   ],
   "source": [
    "sns.pairplot(X)"
   ]
  },
  {
   "cell_type": "code",
   "execution_count": 53,
   "id": "8ad0b791",
   "metadata": {},
   "outputs": [
    {
     "data": {
      "text/plain": [
       "<AxesSubplot:xlabel='age_mean', ylabel='tumorSize_mean'>"
      ]
     },
     "execution_count": 53,
     "metadata": {},
     "output_type": "execute_result"
    },
    {
     "data": {
      "image/png": "[encoded data removed]",
      "text/plain": [
       "<Figure size 432x288 with 1 Axes>"
      ]
     },
     "metadata": {
      "needs_background": "light"
     },
     "output_type": "display_data"
    }
   ],
   "source": [
    "sns.scatterplot(x= 'age_mean', y= 'tumorSize_mean', hue= 'Class', data= data)"
   ]
  },
  {
   "cell_type": "code",
   "execution_count": 30,
   "id": "118ca3d4",
   "metadata": {},
   "outputs": [],
   "source": [
    "from sklearn.preprocessing import StandardScaler"
   ]
  },
  {
   "cell_type": "code",
   "execution_count": 31,
   "id": "63cf8fba",
   "metadata": {},
   "outputs": [],
   "source": [
    "scaler = StandardScaler()\n",
    "x_scaled = scaler.fit_transform(X)"
   ]
  },
  {
   "cell_type": "markdown",
   "id": "4a8e3271",
   "metadata": {},
   "source": [
    "## Split the Data"
   ]
  },
  {
   "cell_type": "code",
   "execution_count": 33,
   "id": "d13a6cb5",
   "metadata": {},
   "outputs": [],
   "source": [
    "x_train, x_test, y_train, y_test = train_test_split(x_scaled, Y, test_size= 0.3, random_state= 42)"
   ]
  },
  {
   "cell_type": "markdown",
   "id": "ace8e242",
   "metadata": {},
   "source": [
    "## Training the Model"
   ]
  },
  {
   "cell_type": "code",
   "execution_count": 34,
   "id": "96b8bfc8",
   "metadata": {},
   "outputs": [],
   "source": [
    "# k_NN\n",
    "from sklearn.neighbors import KNeighborsClassifier\n",
    "knn = KNeighborsClassifier(n_neighbors=4, metric= 'minkowski', p= 2)\n",
    "knn.fit(x_train, y_train)\n",
    "y_pred = knn.predict(x_test)"
   ]
  },
  {
   "cell_type": "code",
   "execution_count": 35,
   "id": "e3c957c6",
   "metadata": {},
   "outputs": [
    {
     "name": "stdout",
     "output_type": "stream",
     "text": [
      "[[52  4]\n",
      " [23  5]]\n",
      "              precision    recall  f1-score   support\n",
      "\n",
      "           0       0.69      0.93      0.79        56\n",
      "           1       0.56      0.18      0.27        28\n",
      "\n",
      "    accuracy                           0.68        84\n",
      "   macro avg       0.62      0.55      0.53        84\n",
      "weighted avg       0.65      0.68      0.62        84\n",
      "\n"
     ]
    }
   ],
   "source": [
    "from sklearn.metrics import classification_report, confusion_matrix\n",
    "print(confusion_matrix(y_test, y_pred))\n",
    "print(classification_report(y_test, y_pred))"
   ]
  },
  {
   "cell_type": "code",
   "execution_count": 36,
   "id": "fd4e10b6",
   "metadata": {},
   "outputs": [],
   "source": [
    "neighbors = np.arange(1, 30)\n",
    "train_accuracy = np.empty(len(neighbors))\n",
    "test_accuracy = np.empty(len(neighbors))"
   ]
  },
  {
   "cell_type": "code",
   "execution_count": 37,
   "id": "8a22b725",
   "metadata": {},
   "outputs": [],
   "source": [
    "for i, k in enumerate(neighbors):\n",
    "    knn_model = KNeighborsClassifier(n_neighbors= k)\n",
    "    knn_model.fit(x_train, y_train)\n",
    "    train_accuracy[i] = knn_model.score(x_train, y_train)\n",
    "    test_accuracy[i] = knn_model.score(x_test, y_test)"
   ]
  },
  {
   "cell_type": "code",
   "execution_count": 38,
   "id": "ceb93102",
   "metadata": {},
   "outputs": [
    {
     "data": {
      "image/png": "[encoded data removed]",
      "text/plain": [
       "<Figure size 432x288 with 1 Axes>"
      ]
     },
     "metadata": {
      "needs_background": "light"
     },
     "output_type": "display_data"
    }
   ],
   "source": [
    "plt.plot(neighbors, train_accuracy, label = 'train accuracy')\n",
    "plt.plot(neighbors, test_accuracy, label = 'test accuracy')\n",
    "plt.legend()\n",
    "plt.xlabel('Number of Neighbors')\n",
    "plt.ylabel('Accuracy')\n",
    "plt.show()"
   ]
  },
  {
   "cell_type": "code",
   "execution_count": 43,
   "id": "cd71d756",
   "metadata": {},
   "outputs": [
    {
     "name": "stdout",
     "output_type": "stream",
     "text": [
      "[[56  0]\n",
      " [24  4]]\n",
      "              precision    recall  f1-score   support\n",
      "\n",
      "           0       0.70      1.00      0.82        56\n",
      "           1       1.00      0.14      0.25        28\n",
      "\n",
      "    accuracy                           0.71        84\n",
      "   macro avg       0.85      0.57      0.54        84\n",
      "weighted avg       0.80      0.71      0.63        84\n",
      "\n"
     ]
    }
   ],
   "source": [
    "knn = KNeighborsClassifier(n_neighbors=26, metric= 'minkowski', p= 2)\n",
    "knn.fit(x_train, y_train)\n",
    "y_pred = knn.predict(x_test)\n",
    "print(confusion_matrix(y_test, y_pred))\n",
    "print(classification_report(y_test, y_pred))"
   ]
  },
  {
   "cell_type": "code",
   "execution_count": 51,
   "id": "4cf8aef6",
   "metadata": {},
   "outputs": [
    {
     "name": "stdout",
     "output_type": "stream",
     "text": [
      "[[55  1]\n",
      " [25  3]]\n",
      "              precision    recall  f1-score   support\n",
      "\n",
      "           0       0.69      0.98      0.81        56\n",
      "           1       0.75      0.11      0.19        28\n",
      "\n",
      "    accuracy                           0.69        84\n",
      "   macro avg       0.72      0.54      0.50        84\n",
      "weighted avg       0.71      0.69      0.60        84\n",
      "\n"
     ]
    }
   ],
   "source": [
    "#SVM\n",
    "from sklearn.svm import SVC\n",
    "svclassifier = SVC(kernel= 'rbf')\n",
    "svclassifier.fit(x_train, y_train)\n",
    "y_predicted = svclassifier.predict(x_test)\n",
    "print(confusion_matrix(y_test, y_predicted))\n",
    "print(classification_report(y_test, y_predicted))"
   ]
  },
  {
   "cell_type": "code",
   "execution_count": 48,
   "id": "6c71382b",
   "metadata": {},
   "outputs": [
    {
     "data": {
      "text/plain": [
       "0.7261904761904762"
      ]
     },
     "execution_count": 48,
     "metadata": {},
     "output_type": "execute_result"
    }
   ],
   "source": [
    "# Logistic Regression\n",
    "from sklearn.linear_model import LogisticRegression\n",
    "logReg = LogisticRegression()\n",
    "logReg.fit(x_train, y_train)\n",
    "y_pred = logReg.predict(x_test)\n",
    "metrics.accuracy_score(y_test, y_pred)"
   ]
  }
 ],
 "metadata": {
  "kernelspec": {
   "display_name": "Python 3 (ipykernel)",
   "language": "python",
   "name": "python3"
  },
  "language_info": {
   "codemirror_mode": {
    "name": "ipython",
    "version": 3
   },
   "file_extension": ".py",
   "mimetype": "text/x-python",
   "name": "python",
   "nbconvert_exporter": "python",
   "pygments_lexer": "ipython3",
   "version": "3.9.7"
  }
 },
 "nbformat": 4,
 "nbformat_minor": 5
}
